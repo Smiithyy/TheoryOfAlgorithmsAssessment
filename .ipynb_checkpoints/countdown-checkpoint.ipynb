{
 "cells": [
  {
   "cell_type": "markdown",
   "id": "e1db7385-673c-4b05-8dd0-64ac22e7ff37",
   "metadata": {},
   "source": [
    "<h1>Countdown Numbers Game Notebook</h1>"
   ]
  },
  {
   "cell_type": "markdown",
   "id": "3b9d13bb-55aa-4a7f-ba6d-acc4e3f9c62c",
   "metadata": {},
   "source": [
    "<h3>Overview of the Countdown Numbers Game?</h3>\n",
    "<p>In the Countdown Numbers Game the contestants are presented with 24 face-down numbered tiles; 20 small numbers (1 through 10 twice) and 4 large numbers (25, 50, 75 and 100). The contestant first choses how many large numbers they want to use, from none to all 4. The chosen amount of large numbers are taken randomly from the set. Small numbers are then taken randomly from the set until 6 numbers total are on the board. A random target number is then displayed ranging from 101 to 1000. <br> The contestants then have 30 seconds to work out a series of calculations using the numbers, that equils as close as possible to the target number. The basic operations of addition, subtraction, multiplication and division can only be used and all 6 numbers do not need to be used. <br> The contestents then recieve points based on how close they get to the target. 10 points for equaling the target, 7 points for being 1-5 away and 5 for being 6-10 away, no points are scored for being further than 10 from the target.</p>\n",
    "<h4>Example</h4>\n",
    "<p>Contestant one requests two large numbers and 4 small numbers. <br>Number Selection: <br>75, 50, 2, 3, 8, 7<br>Randomly generated target: <br>812 <br><br>Contestant one declares they got 813, while contestant two got 815.<br>Contestant one is closer to the target and reveals their calculations: 75 + 50 - 8 = 117, 117 * 7 - (3 * 2) = 813<br>Contestant one gets 7 points for this calculation, contestant two does not score. <br>Notes: 50 + 8 = 58, 7 * 2 * 58 = 812, which would have score 10 points.</p>"
   ]
  },
  {
   "cell_type": "markdown",
   "id": "172b2da4-1198-46f4-9cda-f15dffb916cc",
   "metadata": {},
   "source": [
    "<h3>Python function to solve the Countdown Numbers Game</h3>"
   ]
  },
  {
   "cell_type": "code",
   "execution_count": null,
   "id": "1ad28b6b-5d18-44c5-a7b8-fc201961abd1",
   "metadata": {},
   "outputs": [],
   "source": [
    "# Permutations and combinations.\n",
    "import itertools as it\n",
    "\n",
    "# Random number generation.\n",
    "import random\n",
    "\n",
    "# Operators as functions.\n",
    "import operator"
   ]
  },
  {
   "cell_type": "code",
   "execution_count": null,
   "id": "d5e232bd-1bc9-4842-845c-4c47ff1c5360",
   "metadata": {},
   "outputs": [],
   "source": [
    "def new_numbers_game(no_large=None):\n",
    "    \n",
    "  # If no_large in None, randomly pick value between 0 and 4 inclusive.\n",
    "  if no_large is None:\n",
    "    # Randomly set the value.\n",
    "    no_large = random.randrange(0, 5)\n",
    "  \n",
    "  # Select random large numbers.\n",
    "  large_rand = random.sample([25, 50, 75, 100], no_large)\n",
    "  # Select random small numbers.\n",
    "  small_rand = random.sample(list(range(1, 11)) * 2, 6 - no_large)\n",
    "  # The playing numbers.\n",
    "  play_nos = large_rand + small_rand\n",
    "\n",
    "  # Select a target number.\n",
    "  target = random.randrange(101, 1000)\n",
    "\n",
    "  # Return the game.\n",
    "  return play_nos, target"
   ]
  },
  {
   "cell_type": "code",
   "execution_count": null,
   "id": "f6c72283-7a68-4f1c-baef-9c9840840a66",
   "metadata": {},
   "outputs": [],
   "source": [
    "# Display the random numbers and the random target number\n",
    "play_nos, target = new_numbers_game()\n",
    "play_nos, target"
   ]
  },
  {
   "cell_type": "code",
   "execution_count": null,
   "id": "c5a5c54c-bb93-4e78-b84a-ed09dd37e2bb",
   "metadata": {},
   "outputs": [],
   "source": [
    "#get all combinations of numbers\n",
    "permutations_list=[]\n",
    "for i in range(2,7):\n",
    "    #get combinations \n",
    "    permutations_list = permutations_list+list(it.permutations(play_nos,i))"
   ]
  },
  {
   "cell_type": "code",
   "execution_count": null,
   "id": "3922bdf1-3e43-47da-be23-dab533950419",
   "metadata": {},
   "outputs": [],
   "source": [
    "# Give all 2-partitions of a list\n",
    "# where each sublist has  one element.\n",
    "def patterns(numbers, operators):\n",
    "  # Check if there is no way to partition further.\n",
    "  if len(numbers) == 1:\n",
    "    yield numbers\n",
    "  # Loop through all the ways to partition L into two non-empty sublists.\n",
    "  for i in range(1, len(numbers)):\n",
    "    # Slice the list using i.\n",
    "    for left, right in it.product(patterns(numbers[:i], operators[1:i]), patterns(numbers[i:], operators[i:])):\n",
    "      # Yield the next operator applied to the sublists.\n",
    "      yield [*left, *right, operators[0]]"
   ]
  },
  {
   "cell_type": "code",
   "execution_count": null,
   "id": "612b7a36-d9b9-4155-b07a-11a42ce83211",
   "metadata": {},
   "outputs": [],
   "source": [
    "# Evaluate RPN expression.\n",
    "def eval_rpn(rpn):\n",
    "  # A stack.\n",
    "  stack = []\n",
    "  # Loop through rpn an item at a time.\n",
    "  for i in rpn:\n",
    "    # Check if it's a number.\n",
    "    if isinstance(i, int):\n",
    "      # Append to the stack.\n",
    "      stack = stack + [i]\n",
    "    else:\n",
    "      # Pop from stack twice.\n",
    "      right = stack[-1]\n",
    "      stack = stack[:-1]\n",
    "      left = stack[-1]\n",
    "      stack = stack[:-1]\n",
    "      # Push operator applied to stack elements.\n",
    "      if i == operator.sub and left<=right:\n",
    "          return\n",
    "      if i == operator.truediv and left%right!=0:\n",
    "          return\n",
    "      \n",
    "      val = i(left, right)\n",
    "      stack = stack + [val]\n",
    "          \n",
    "  # Should only be one item on stack.\n",
    "  return stack[0]"
   ]
  },
  {
   "cell_type": "code",
   "execution_count": null,
   "id": "f141f052-ef56-413b-8369-5afe920c3743",
   "metadata": {},
   "outputs": [],
   "source": [
    "# list of operators.\n",
    "operators = [operator.add, operator.sub, operator.mul, operator.truediv]\n",
    "\n",
    "solutions = []\n",
    "# Using eval\n",
    "for p in permutations_list:\n",
    "    for ops in it.product(operators, repeat=len(p)-1):\n",
    "        for i in patterns(p, ops):\n",
    "            val = eval_rpn(i)\n",
    "            if val == target:\n",
    "                solutions.append(i)\n",
    "print(*solutions)\n",
    "\n",
    "print(len(solutions))\n",
    "        "
   ]
  },
  {
   "cell_type": "code",
   "execution_count": null,
   "id": "f7e6c8f6-4cbe-4d5f-a415-3153c25f783c",
   "metadata": {},
   "outputs": [],
   "source": []
  }
 ],
 "metadata": {
  "kernelspec": {
   "display_name": "Python 3 (ipykernel)",
   "language": "python",
   "name": "python3"
  },
  "language_info": {
   "codemirror_mode": {
    "name": "ipython",
    "version": 3
   },
   "file_extension": ".py",
   "mimetype": "text/x-python",
   "name": "python",
   "nbconvert_exporter": "python",
   "pygments_lexer": "ipython3",
   "version": "3.9.7"
  }
 },
 "nbformat": 4,
 "nbformat_minor": 5
}
