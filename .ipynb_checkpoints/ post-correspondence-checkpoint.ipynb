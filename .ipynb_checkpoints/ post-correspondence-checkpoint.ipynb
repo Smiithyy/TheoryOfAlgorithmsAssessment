{
 "cells": [
  {
   "cell_type": "markdown",
   "id": "cd314aec-2fbb-4f6f-be7d-ac776711d623",
   "metadata": {},
   "source": [
    "<h1>Post Correspondence Problem Notebook</h1>"
   ]
  },
  {
   "cell_type": "markdown",
   "id": "4de6d854-a046-4d2b-af8a-9f6e9a0d9564",
   "metadata": {},
   "source": [
    "<h3>What is Post Correspondence Problem</h3>\n",
    "<p>Post Correspondence Problem (PCP), introduced by Emil Post in 1946, is an undecidable problem. A problem is said to be decidable when it can be answered correctly with an algorithm. In the case of a PCP, the problem cannot be solved using an algorithm in a finite amount of time.</p>\n",
    "<h4>Example of the problem</h4>\n",
    "<p>Given 2 lists A and B of non empty strings.</p>"
   ]
  },
  {
   "cell_type": "code",
   "execution_count": 11,
   "id": "17275df3-4d0d-412a-a610-b312121df236",
   "metadata": {},
   "outputs": [],
   "source": [
    "a = 'a'\n",
    "b = 'b'"
   ]
  },
  {
   "cell_type": "code",
   "execution_count": 16,
   "id": "1d2f96e7-fb75-427c-bf77-4dc69edff847",
   "metadata": {},
   "outputs": [],
   "source": [
    "# List A\n",
    "A = ((a,), (a,b), (b, b, a))"
   ]
  },
  {
   "cell_type": "code",
   "execution_count": 17,
   "id": "8ee2b716-1670-4d8c-9130-cdd86c49033d",
   "metadata": {},
   "outputs": [
    {
     "data": {
      "text/plain": [
       "(('a',), ('a', 'b'), ('b', 'b', 'a'))"
      ]
     },
     "execution_count": 17,
     "metadata": {},
     "output_type": "execute_result"
    }
   ],
   "source": [
    "A"
   ]
  },
  {
   "cell_type": "code",
   "execution_count": 18,
   "id": "270b212e-c3a6-4062-98fa-76eeed491107",
   "metadata": {},
   "outputs": [],
   "source": [
    "# List B\n",
    "B = ((b, a, a), (a, a), (b, b))"
   ]
  },
  {
   "cell_type": "code",
   "execution_count": 19,
   "id": "419663c2-7270-4e04-ae06-a6ffe5a4c0f5",
   "metadata": {},
   "outputs": [
    {
     "data": {
      "text/plain": [
       "(('b', 'a', 'a'), ('a', 'a'), ('b', 'b'))"
      ]
     },
     "execution_count": 19,
     "metadata": {},
     "output_type": "execute_result"
    }
   ],
   "source": [
    "B"
   ]
  },
  {
   "cell_type": "code",
   "execution_count": 20,
   "id": "32bce758-cd06-4660-822a-f8526ba4dc01",
   "metadata": {},
   "outputs": [],
   "source": [
    "# A proposed solution\n",
    "S = (2, 1, 2, 0)"
   ]
  },
  {
   "cell_type": "code",
   "execution_count": 22,
   "id": "0d236a9f-7768-46b1-871b-b2190b17a108",
   "metadata": {},
   "outputs": [],
   "source": [
    "# Applying the proposed solution to a tuple\n",
    "def apply(S, L):\n",
    "    S_on_L = [''.join(L[i]) for i in S]\n",
    "    return ''.join(S_on_L)"
   ]
  },
  {
   "cell_type": "code",
   "execution_count": 23,
   "id": "7269ea00-88f8-4f00-9abb-61686667dd15",
   "metadata": {},
   "outputs": [
    {
     "data": {
      "text/plain": [
       "'bbaabbbaa'"
      ]
     },
     "execution_count": 23,
     "metadata": {},
     "output_type": "execute_result"
    }
   ],
   "source": [
    "# Applying the porposed solution to A\n",
    "apply(S, A)"
   ]
  },
  {
   "cell_type": "code",
   "execution_count": 24,
   "id": "24890047-6b59-40ce-bfb7-3857705f90a7",
   "metadata": {},
   "outputs": [
    {
     "data": {
      "text/plain": [
       "'bbaabbbaa'"
      ]
     },
     "execution_count": 24,
     "metadata": {},
     "output_type": "execute_result"
    }
   ],
   "source": [
    "# Applying the proposed solution to B\n",
    "apply(S, B)"
   ]
  },
  {
   "cell_type": "code",
   "execution_count": 26,
   "id": "c4629b11-81c0-467c-b4c6-7c09cda6aae6",
   "metadata": {},
   "outputs": [
    {
     "data": {
      "text/plain": [
       "True"
      ]
     },
     "execution_count": 26,
     "metadata": {},
     "output_type": "execute_result"
    }
   ],
   "source": [
    "# Checking to see if the proposed solution is a solution\n",
    "apply(S, A) == apply(S, B)"
   ]
  },
  {
   "cell_type": "markdown",
   "id": "69e00c78-38a6-4ac7-aa05-10fedb12df24",
   "metadata": {},
   "source": [
    "<h3>Bounded Post Correspondence Problem</h3>\n",
    "<p>Bounded PCP is one of the most important forms of PCP. In Bounded Post Correspondence Problem, the number of tiles used to find a match is no more than k, including repeats. This problem can be solved in time using O(2^k), however this can be difficult to improve upon and so, no efficient algorithm existis in order to solve this problem, since the problem is NP-complete.</p>"
   ]
  },
  {
   "cell_type": "markdown",
   "id": "84d928a4-bcf2-4c5d-9488-ef4d5fa7cc75",
   "metadata": {},
   "source": [
    "<h4>Example of Bounded Post Correspondence Problem</h4>\n",
    "<p>Given 2 lists; <br>\n",
    "    A = (abb, aa) <br>\n",
    "    B = (bba, aaa) <br>\n",
    "In PCP these are an infinite number of cominations for the given lists; <br>\n",
    "    (1), (2), (1,1), (1,2), (2,1), (2,2), (1,1,1), (1,1,2).... <br>\n",
    "If we define k as 3 the number of combinations for the given lists get limited to; <br>\n",
    "    (1), (2), (1,1), (1,2), (2,1), (2,2), (1,1,1), (1,1,2), (1,2,2), (2,1,2) and (2,2,2) <br>\n",
    "Using the Bounded Post Correspondence Methos simplifies the soulution space. </p>"
   ]
  },
  {
   "cell_type": "markdown",
   "id": "a01f7ef1-41b4-4c86-9e4d-55be3db72437",
   "metadata": {},
   "source": [
    "<h3>Function to solve Bounded Post Correspondence Problem</h3>"
   ]
  },
  {
   "cell_type": "code",
   "execution_count": 1,
   "id": "8996e06e-6385-49db-8abc-b6601b8cf67a",
   "metadata": {},
   "outputs": [
    {
     "ename": "SyntaxError",
     "evalue": "invalid syntax (Temp/ipykernel_9068/756133494.py, line 4)",
     "output_type": "error",
     "traceback": [
      "\u001b[1;36m  File \u001b[1;32m\"C:\\Users\\evans\\AppData\\Local\\Temp/ipykernel_9068/756133494.py\"\u001b[1;36m, line \u001b[1;32m4\u001b[0m\n\u001b[1;33m    def get_combinations(list, k);\u001b[0m\n\u001b[1;37m                                 ^\u001b[0m\n\u001b[1;31mSyntaxError\u001b[0m\u001b[1;31m:\u001b[0m invalid syntax\n"
     ]
    }
   ],
   "source": [
    "from itertool import product\n",
    "\n",
    "# All possible combinations are given as a list of tiles\n",
    "def combination_list(list, k):\n",
    "\n",
    "    combinations = []\n",
    "    from i in range(1, k + 1):\n",
    "        for item in product(list, repeat = i):\n",
    "            combinations.append(\"\".join(item))\n",
    "        return combinations"
   ]
  },
  {
   "cell_type": "code",
   "execution_count": null,
   "id": "66b9593e-ab92-470b-9622-548c56d1eec4",
   "metadata": {},
   "outputs": [],
   "source": []
  }
 ],
 "metadata": {
  "kernelspec": {
   "display_name": "Python 3 (ipykernel)",
   "language": "python",
   "name": "python3"
  },
  "language_info": {
   "codemirror_mode": {
    "name": "ipython",
    "version": 3
   },
   "file_extension": ".py",
   "mimetype": "text/x-python",
   "name": "python",
   "nbconvert_exporter": "python",
   "pygments_lexer": "ipython3",
   "version": "3.9.7"
  }
 },
 "nbformat": 4,
 "nbformat_minor": 5
}
