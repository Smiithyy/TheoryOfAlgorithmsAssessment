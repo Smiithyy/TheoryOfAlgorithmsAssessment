{
 "cells": [
  {
   "cell_type": "markdown",
   "id": "e1db7385-673c-4b05-8dd0-64ac22e7ff37",
   "metadata": {},
   "source": [
    "<h1>Countdown Numbers Game Notebook</h1>"
   ]
  },
  {
   "cell_type": "markdown",
   "id": "3b9d13bb-55aa-4a7f-ba6d-acc4e3f9c62c",
   "metadata": {},
   "source": [
    "<h3>Overview of the Countdown Numbers Game?</h3>\n",
    "<p>In the Countdown Numbers Game the contestants are presented with 24 face-down numbered tiles; 20 small numbers (1 through 10 twice) and 4 large numbers (25, 50, 75 and 100). The contestant first choses how many large numbers they want to use, from none to all 4. The chosen amount of large numbers are taken randomly from the set. Small numbers are then taken randomly from the set until 6 numbers total are on the board. A random target number is then displayed ranging from 101 to 1000. <br> The contestants then have 30 seconds to work out a series of calculations using the numbers, that equils as close as possible to the target number. The basic operations of addition, subtraction, multiplication and division can only be used and all 6 numbers do not need to be used. <br> The contestents then recieve points based on how close they get to the target. 10 points for equaling the target, 7 points for being 1-5 away and 5 for being 6-10 away, no points are scored for being further than 10 from the target.</p>\n",
    "<h4>Example</h4>\n",
    "<p>Contestant one requests two large numbers and 4 small numbers. <br>Number Selection: <br>75, 50, 2, 3, 8, 7<br>Randomly generated target: <br>812 <br><br>Contestant one declares they got 813, while contestant two got 815.<br>Contestant one is closer to the target and reveals their calculations: 75 + 50 - 8 = 117, 117 * 7 - (3 * 2) = 813<br>Contestant one gets 7 points for this calculation, contestant two does not score. <br>Notes: 50 + 8 = 58, 7 * 2 * 58 = 812, which would have score 10 points.</p>"
   ]
  },
  {
   "cell_type": "markdown",
   "id": "e8c1cfa2-48bb-47f7-8410-31e0938234ae",
   "metadata": {},
   "source": [
    "<h3>Discussion of the complexity of the Countdown Numbers Game.</h3>"
   ]
  },
  {
   "cell_type": "code",
   "execution_count": null,
   "id": "198f3f63-0325-4b4e-8b20-e284353f5c3d",
   "metadata": {},
   "outputs": [],
   "source": []
  }
 ],
 "metadata": {
  "kernelspec": {
   "display_name": "Python 3 (ipykernel)",
   "language": "python",
   "name": "python3"
  },
  "language_info": {
   "codemirror_mode": {
    "name": "ipython",
    "version": 3
   },
   "file_extension": ".py",
   "mimetype": "text/x-python",
   "name": "python",
   "nbconvert_exporter": "python",
   "pygments_lexer": "ipython3",
   "version": "3.9.7"
  }
 },
 "nbformat": 4,
 "nbformat_minor": 5
}
