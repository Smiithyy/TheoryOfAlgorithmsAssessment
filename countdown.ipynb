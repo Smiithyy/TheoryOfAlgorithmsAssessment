{
 "cells": [
  {
   "cell_type": "markdown",
   "id": "e1db7385-673c-4b05-8dd0-64ac22e7ff37",
   "metadata": {},
   "source": [
    "<h1>Countdown Numbers Game Notebook</h1>"
   ]
  },
  {
   "cell_type": "code",
   "execution_count": null,
   "id": "0b36fbdf-b8bb-468a-a18c-9f82106b9862",
   "metadata": {},
   "outputs": [],
   "source": []
  }
 ],
 "metadata": {
  "kernelspec": {
   "display_name": "Python 3",
   "language": "python",
   "name": "python3"
  },
  "language_info": {
   "codemirror_mode": {
    "name": "ipython",
    "version": 3
   },
   "file_extension": ".py",
   "mimetype": "text/x-python",
   "name": "python",
   "nbconvert_exporter": "python",
   "pygments_lexer": "ipython3",
   "version": "3.8.8"
  }
 },
 "nbformat": 4,
 "nbformat_minor": 5
}
