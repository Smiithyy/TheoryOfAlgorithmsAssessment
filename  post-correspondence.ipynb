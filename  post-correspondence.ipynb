{
 "cells": [
  {
   "cell_type": "markdown",
   "id": "cd314aec-2fbb-4f6f-be7d-ac776711d623",
   "metadata": {},
   "source": [
    "<h1>Post Correspondence Problem Notebook</h1>"
   ]
  },
  {
   "cell_type": "code",
   "execution_count": null,
   "id": "b87426ff-8182-40e8-935d-070fddbc7b9c",
   "metadata": {},
   "outputs": [],
   "source": []
  }
 ],
 "metadata": {
  "kernelspec": {
   "display_name": "Python 3",
   "language": "python",
   "name": "python3"
  },
  "language_info": {
   "codemirror_mode": {
    "name": "ipython",
    "version": 3
   },
   "file_extension": ".py",
   "mimetype": "text/x-python",
   "name": "python",
   "nbconvert_exporter": "python",
   "pygments_lexer": "ipython3",
   "version": "3.8.8"
  }
 },
 "nbformat": 4,
 "nbformat_minor": 5
}
