{
 "cells": [
  {
   "cell_type": "markdown",
   "id": "cd314aec-2fbb-4f6f-be7d-ac776711d623",
   "metadata": {},
   "source": [
    "<h1>Post Correspondence Problem Notebook</h1>"
   ]
  },
  {
   "cell_type": "markdown",
   "id": "4de6d854-a046-4d2b-af8a-9f6e9a0d9564",
   "metadata": {},
   "source": [
    "<h3>What is Post Correspondence Problem</h3>\n",
    "<p>Post Correspondence Problem (PCP), introduced by Emil Post in 1946, is an undecidable problem. A problem is said to be decidable when it can be answered correctly with an algorithm. In the case of a PCP, the problem cannot be solved using an algorithm in a finite amount of time.</p>"
   ]
  },
  {
   "cell_type": "code",
   "execution_count": null,
   "id": "17275df3-4d0d-412a-a610-b312121df236",
   "metadata": {},
   "outputs": [],
   "source": []
  }
 ],
 "metadata": {
  "kernelspec": {
   "display_name": "Python 3 (ipykernel)",
   "language": "python",
   "name": "python3"
  },
  "language_info": {
   "codemirror_mode": {
    "name": "ipython",
    "version": 3
   },
   "file_extension": ".py",
   "mimetype": "text/x-python",
   "name": "python",
   "nbconvert_exporter": "python",
   "pygments_lexer": "ipython3",
   "version": "3.9.7"
  }
 },
 "nbformat": 4,
 "nbformat_minor": 5
}
