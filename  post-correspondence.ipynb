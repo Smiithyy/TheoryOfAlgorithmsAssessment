{
 "cells": [
  {
   "cell_type": "markdown",
   "id": "cd314aec-2fbb-4f6f-be7d-ac776711d623",
   "metadata": {},
   "source": [
    "<h1>Post Correspondence Problem Notebook</h1>"
   ]
  },
  {
   "cell_type": "markdown",
   "id": "4de6d854-a046-4d2b-af8a-9f6e9a0d9564",
   "metadata": {},
   "source": [
    "<h3>What is Post Correspondence Problem</h3>\n",
    "<p>Post Correspondence Problem (PCP), introduced by Emil Post in 1946, is an undecidable problem. A problem is said to be decidable when it can be answered correctly with an algorithm. In the case of a PCP, the problem cannot be solved using an algorithm in a finite amount of time.</p>\n",
    "<h4>Example of the problem</h4>\n",
    "<p>Given 2 lists A and B of non empty strings.</p>"
   ]
  },
  {
   "cell_type": "code",
   "execution_count": 11,
   "id": "17275df3-4d0d-412a-a610-b312121df236",
   "metadata": {},
   "outputs": [],
   "source": [
    "a = 'a'\n",
    "b = 'b'"
   ]
  },
  {
   "cell_type": "code",
   "execution_count": 16,
   "id": "1d2f96e7-fb75-427c-bf77-4dc69edff847",
   "metadata": {},
   "outputs": [],
   "source": [
    "# List A\n",
    "A = ((a,), (a,b), (b, b, a))"
   ]
  },
  {
   "cell_type": "code",
   "execution_count": 17,
   "id": "8ee2b716-1670-4d8c-9130-cdd86c49033d",
   "metadata": {},
   "outputs": [
    {
     "data": {
      "text/plain": [
       "(('a',), ('a', 'b'), ('b', 'b', 'a'))"
      ]
     },
     "execution_count": 17,
     "metadata": {},
     "output_type": "execute_result"
    }
   ],
   "source": [
    "A"
   ]
  },
  {
   "cell_type": "code",
   "execution_count": 18,
   "id": "270b212e-c3a6-4062-98fa-76eeed491107",
   "metadata": {},
   "outputs": [],
   "source": [
    "# List B\n",
    "B = ((b, a, a), (a, a), (b, b))"
   ]
  },
  {
   "cell_type": "code",
   "execution_count": 19,
   "id": "419663c2-7270-4e04-ae06-a6ffe5a4c0f5",
   "metadata": {},
   "outputs": [
    {
     "data": {
      "text/plain": [
       "(('b', 'a', 'a'), ('a', 'a'), ('b', 'b'))"
      ]
     },
     "execution_count": 19,
     "metadata": {},
     "output_type": "execute_result"
    }
   ],
   "source": [
    "B"
   ]
  },
  {
   "cell_type": "code",
   "execution_count": 20,
   "id": "32bce758-cd06-4660-822a-f8526ba4dc01",
   "metadata": {},
   "outputs": [],
   "source": [
    "# A proposed solution\n",
    "S = (2, 1, 2, 0)"
   ]
  },
  {
   "cell_type": "code",
   "execution_count": 22,
   "id": "0d236a9f-7768-46b1-871b-b2190b17a108",
   "metadata": {},
   "outputs": [],
   "source": [
    "# Applying the proposed solution to a tuple\n",
    "def apply(S, L):\n",
    "    S_on_L = [''.join(L[i]) for i in S]\n",
    "    return ''.join(S_on_L)"
   ]
  },
  {
   "cell_type": "code",
   "execution_count": 23,
   "id": "7269ea00-88f8-4f00-9abb-61686667dd15",
   "metadata": {},
   "outputs": [
    {
     "data": {
      "text/plain": [
       "'bbaabbbaa'"
      ]
     },
     "execution_count": 23,
     "metadata": {},
     "output_type": "execute_result"
    }
   ],
   "source": [
    "# Applying the porposed solution to A\n",
    "apply(S, A)"
   ]
  },
  {
   "cell_type": "code",
   "execution_count": 24,
   "id": "24890047-6b59-40ce-bfb7-3857705f90a7",
   "metadata": {},
   "outputs": [
    {
     "data": {
      "text/plain": [
       "'bbaabbbaa'"
      ]
     },
     "execution_count": 24,
     "metadata": {},
     "output_type": "execute_result"
    }
   ],
   "source": [
    "# Applying the proposed solution to B\n",
    "apply(S, B)"
   ]
  },
  {
   "cell_type": "code",
   "execution_count": 26,
   "id": "c4629b11-81c0-467c-b4c6-7c09cda6aae6",
   "metadata": {},
   "outputs": [
    {
     "data": {
      "text/plain": [
       "True"
      ]
     },
     "execution_count": 26,
     "metadata": {},
     "output_type": "execute_result"
    }
   ],
   "source": [
    "# Checking to see if the proposed solution is a solution\n",
    "apply(S, A) == apply(S, B)"
   ]
  },
  {
   "cell_type": "markdown",
   "id": "69e00c78-38a6-4ac7-aa05-10fedb12df24",
   "metadata": {},
   "source": [
    "<h3>Bounded Post Correspondence Problem</h3>\n",
    "<p>Bounded PCP is one of the most important forms of PCP. In Bounded Post Correspondence Problem, the number of tiles used to find a match is no more than k, including repeats. This problem can be solved in time using O(2^k), however this can be difficult to improve upon and so, no efficient algorithm existis in order to solve this problem, since the problem is NP-complete.</p>"
   ]
  },
  {
   "cell_type": "markdown",
   "id": "84d928a4-bcf2-4c5d-9488-ef4d5fa7cc75",
   "metadata": {},
   "source": [
    "<h4>Example of Bounded Post Correspondence Problem</h4>\n",
    "<p>Given 2 lists; <br>\n",
    "    A = (abb, aa) <br>\n",
    "    B = (bba, aaa) <br>\n",
    "In PCP these are an infinite number of cominations for the given lists; <br>\n",
    "    (1), (2), (1,1), (1,2), (2,1), (2,2), (1,1,1), (1,1,2).... <br>\n",
    "If we define k as 3 the number of combinations for the given lists get limited to; <br>\n",
    "    (1), (2), (1,1), (1,2), (2,1), (2,2), (1,1,1), (1,1,2), (1,2,2), (2,1,2) and (2,2,2) <br>\n",
    "Using the Bounded Post Correspondence Methos simplifies the soulution space. </p>"
   ]
  },
  {
   "cell_type": "markdown",
   "id": "a01f7ef1-41b4-4c86-9e4d-55be3db72437",
   "metadata": {},
   "source": [
    "<h3>Function to solve Bounded Post Correspondence Problem</h3>"
   ]
  },
  {
   "cell_type": "code",
   "execution_count": 41,
   "id": "8996e06e-6385-49db-8abc-b6601b8cf67a",
   "metadata": {},
   "outputs": [],
   "source": [
    "from itertools import product\n",
    "\n",
    "# All possible combinations are given as a list of tiles\n",
    "def get_combination(list, k):\n",
    "\n",
    "    combinations = []\n",
    "    for i in range(1,k + 1):\n",
    "        for item in product(list, repeat = i):\n",
    "            combinations.append(\"\".join(item))\n",
    "    return combinations\n"
   ]
  },
  {
   "cell_type": "code",
   "execution_count": 44,
   "id": "66b9593e-ab92-470b-9622-548c56d1eec4",
   "metadata": {},
   "outputs": [
    {
     "name": "stdout",
     "output_type": "stream",
     "text": [
      "['AB', 'B', 'ABAB', 'ABB', 'BAB', 'BB', 'ABABAB', 'ABABB', 'ABBAB', 'ABBB', 'BABAB', 'BABB', 'BBAB', 'BBB']\n"
     ]
    }
   ],
   "source": [
    "list1= [\"AB\", \"B\"]\n",
    "k=3\n",
    "print(get_combination(list1, k))"
   ]
  },
  {
   "cell_type": "code",
   "execution_count": 53,
   "id": "00ce1a00-4a41-4a06-99e8-c6e71c77900b",
   "metadata": {},
   "outputs": [],
   "source": [
    "import numpy as np\n",
    "def bounded_solver(L1,L2,k):\n",
    "    \n",
    "    A = np.array(get_combination(L1, k))\n",
    "    B = np.array(get_combination(L2, k))\n",
    "    print(A)\n",
    "    print(B)\n",
    "    \n",
    "    if(np.where(A == B)):\n",
    "        return True\n",
    "    return False"
   ]
  },
  {
   "cell_type": "code",
   "execution_count": 55,
   "id": "ee9d9a48-6809-486d-b3a6-cbccafee85ce",
   "metadata": {},
   "outputs": [
    {
     "name": "stdout",
     "output_type": "stream",
     "text": [
      "['abb' 'aa' 'aaa' 'abbabb' 'abbaa' 'abbaaa' 'aaabb' 'aaaa' 'aaaaa'\n",
      " 'aaaabb' 'aaaaa' 'aaaaaa']\n",
      "['bba' 'aaa' 'aa' 'bbabba' 'bbaaaa' 'bbaaa' 'aaabba' 'aaaaaa' 'aaaaa'\n",
      " 'aabba' 'aaaaa' 'aaaa']\n"
     ]
    },
    {
     "data": {
      "text/plain": [
       "True"
      ]
     },
     "execution_count": 55,
     "metadata": {},
     "output_type": "execute_result"
    }
   ],
   "source": [
    "A = [\"abb\", \"aa\", \"aaa\"]\n",
    "B = [\"bba\", \"aaa\", \"aa\"]\n",
    "# Using (2, 1, 3)\n",
    "bounded_correspondence_solver(A, B, 2)"
   ]
  },
  {
   "cell_type": "code",
   "execution_count": 57,
   "id": "2a204659-b9b4-49fb-859e-e3ffe9ea9c2b",
   "metadata": {},
   "outputs": [
    {
     "name": "stdout",
     "output_type": "stream",
     "text": [
      "['abb' 'aa' 'aaa' 'abbabb' 'abbaa' 'abbaaa' 'aaabb' 'aaaa' 'aaaaa'\n",
      " 'aaaabb' 'aaaaa' 'aaaaaa' 'abbabbabb' 'abbabbaa' 'abbabbaaa' 'abbaaabb'\n",
      " 'abbaaaa' 'abbaaaaa' 'abbaaaabb' 'abbaaaaa' 'abbaaaaaa' 'aaabbabb'\n",
      " 'aaabbaa' 'aaabbaaa' 'aaaaabb' 'aaaaaa' 'aaaaaaa' 'aaaaaabb' 'aaaaaaa'\n",
      " 'aaaaaaaa' 'aaaabbabb' 'aaaabbaa' 'aaaabbaaa' 'aaaaaabb' 'aaaaaaa'\n",
      " 'aaaaaaaa' 'aaaaaaabb' 'aaaaaaaa' 'aaaaaaaaa' 'abbabbabbabb'\n",
      " 'abbabbabbaa' 'abbabbabbaaa' 'abbabbaaabb' 'abbabbaaaa' 'abbabbaaaaa'\n",
      " 'abbabbaaaabb' 'abbabbaaaaa' 'abbabbaaaaaa' 'abbaaabbabb' 'abbaaabbaa'\n",
      " 'abbaaabbaaa' 'abbaaaaabb' 'abbaaaaaa' 'abbaaaaaaa' 'abbaaaaaabb'\n",
      " 'abbaaaaaaa' 'abbaaaaaaaa' 'abbaaaabbabb' 'abbaaaabbaa' 'abbaaaabbaaa'\n",
      " 'abbaaaaaabb' 'abbaaaaaaa' 'abbaaaaaaaa' 'abbaaaaaaabb' 'abbaaaaaaaa'\n",
      " 'abbaaaaaaaaa' 'aaabbabbabb' 'aaabbabbaa' 'aaabbabbaaa' 'aaabbaaabb'\n",
      " 'aaabbaaaa' 'aaabbaaaaa' 'aaabbaaaabb' 'aaabbaaaaa' 'aaabbaaaaaa'\n",
      " 'aaaaabbabb' 'aaaaabbaa' 'aaaaabbaaa' 'aaaaaaabb' 'aaaaaaaa' 'aaaaaaaaa'\n",
      " 'aaaaaaaabb' 'aaaaaaaaa' 'aaaaaaaaaa' 'aaaaaabbabb' 'aaaaaabbaa'\n",
      " 'aaaaaabbaaa' 'aaaaaaaabb' 'aaaaaaaaa' 'aaaaaaaaaa' 'aaaaaaaaabb'\n",
      " 'aaaaaaaaaa' 'aaaaaaaaaaa' 'aaaabbabbabb' 'aaaabbabbaa' 'aaaabbabbaaa'\n",
      " 'aaaabbaaabb' 'aaaabbaaaa' 'aaaabbaaaaa' 'aaaabbaaaabb' 'aaaabbaaaaa'\n",
      " 'aaaabbaaaaaa' 'aaaaaabbabb' 'aaaaaabbaa' 'aaaaaabbaaa' 'aaaaaaaabb'\n",
      " 'aaaaaaaaa' 'aaaaaaaaaa' 'aaaaaaaaabb' 'aaaaaaaaaa' 'aaaaaaaaaaa'\n",
      " 'aaaaaaabbabb' 'aaaaaaabbaa' 'aaaaaaabbaaa' 'aaaaaaaaabb' 'aaaaaaaaaa'\n",
      " 'aaaaaaaaaaa' 'aaaaaaaaaabb' 'aaaaaaaaaaa' 'aaaaaaaaaaaa']\n",
      "['bba' 'aaa' 'aa' 'bbabba' 'bbaaaa' 'bbaaa' 'aaabba' 'aaaaaa' 'aaaaa'\n",
      " 'aabba' 'aaaaa' 'aaaa' 'bbabbabba' 'bbabbaaaa' 'bbabbaaa' 'bbaaaabba'\n",
      " 'bbaaaaaaa' 'bbaaaaaa' 'bbaaabba' 'bbaaaaaa' 'bbaaaaa' 'aaabbabba'\n",
      " 'aaabbaaaa' 'aaabbaaa' 'aaaaaabba' 'aaaaaaaaa' 'aaaaaaaa' 'aaaaabba'\n",
      " 'aaaaaaaa' 'aaaaaaa' 'aabbabba' 'aabbaaaa' 'aabbaaa' 'aaaaabba'\n",
      " 'aaaaaaaa' 'aaaaaaa' 'aaaabba' 'aaaaaaa' 'aaaaaa' 'bbabbabbabba'\n",
      " 'bbabbabbaaaa' 'bbabbabbaaa' 'bbabbaaaabba' 'bbabbaaaaaaa' 'bbabbaaaaaa'\n",
      " 'bbabbaaabba' 'bbabbaaaaaa' 'bbabbaaaaa' 'bbaaaabbabba' 'bbaaaabbaaaa'\n",
      " 'bbaaaabbaaa' 'bbaaaaaaabba' 'bbaaaaaaaaaa' 'bbaaaaaaaaa' 'bbaaaaaabba'\n",
      " 'bbaaaaaaaaa' 'bbaaaaaaaa' 'bbaaabbabba' 'bbaaabbaaaa' 'bbaaabbaaa'\n",
      " 'bbaaaaaabba' 'bbaaaaaaaaa' 'bbaaaaaaaa' 'bbaaaaabba' 'bbaaaaaaaa'\n",
      " 'bbaaaaaaa' 'aaabbabbabba' 'aaabbabbaaaa' 'aaabbabbaaa' 'aaabbaaaabba'\n",
      " 'aaabbaaaaaaa' 'aaabbaaaaaa' 'aaabbaaabba' 'aaabbaaaaaa' 'aaabbaaaaa'\n",
      " 'aaaaaabbabba' 'aaaaaabbaaaa' 'aaaaaabbaaa' 'aaaaaaaaabba' 'aaaaaaaaaaaa'\n",
      " 'aaaaaaaaaaa' 'aaaaaaaabba' 'aaaaaaaaaaa' 'aaaaaaaaaa' 'aaaaabbabba'\n",
      " 'aaaaabbaaaa' 'aaaaabbaaa' 'aaaaaaaabba' 'aaaaaaaaaaa' 'aaaaaaaaaa'\n",
      " 'aaaaaaabba' 'aaaaaaaaaa' 'aaaaaaaaa' 'aabbabbabba' 'aabbabbaaaa'\n",
      " 'aabbabbaaa' 'aabbaaaabba' 'aabbaaaaaaa' 'aabbaaaaaa' 'aabbaaabba'\n",
      " 'aabbaaaaaa' 'aabbaaaaa' 'aaaaabbabba' 'aaaaabbaaaa' 'aaaaabbaaa'\n",
      " 'aaaaaaaabba' 'aaaaaaaaaaa' 'aaaaaaaaaa' 'aaaaaaabba' 'aaaaaaaaaa'\n",
      " 'aaaaaaaaa' 'aaaabbabba' 'aaaabbaaaa' 'aaaabbaaa' 'aaaaaaabba'\n",
      " 'aaaaaaaaaa' 'aaaaaaaaa' 'aaaaaabba' 'aaaaaaaaa' 'aaaaaaaa']\n"
     ]
    },
    {
     "data": {
      "text/plain": [
       "True"
      ]
     },
     "execution_count": 57,
     "metadata": {},
     "output_type": "execute_result"
    }
   ],
   "source": [
    "A = [\"aa\", \"bb\", \"abb\"]\n",
    "B = [\"aab\", \"ba\", \"b\"]\n",
    "\n",
    "# Using(1, 2, 1, 3)\n",
    "bounded_solver(C, D, 4)"
   ]
  },
  {
   "cell_type": "markdown",
   "id": "929985bc-1f2c-437e-b551-d99fbd4080c1",
   "metadata": {},
   "source": []
  }
 ],
 "metadata": {
  "kernelspec": {
   "display_name": "Python 3 (ipykernel)",
   "language": "python",
   "name": "python3"
  },
  "language_info": {
   "codemirror_mode": {
    "name": "ipython",
    "version": 3
   },
   "file_extension": ".py",
   "mimetype": "text/x-python",
   "name": "python",
   "nbconvert_exporter": "python",
   "pygments_lexer": "ipython3",
   "version": "3.9.7"
  }
 },
 "nbformat": 4,
 "nbformat_minor": 5
}
